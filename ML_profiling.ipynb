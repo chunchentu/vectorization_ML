{
 "cells": [
  {
   "cell_type": "markdown",
   "metadata": {},
   "source": [
    "# Profiling results"
   ]
  },
  {
   "cell_type": "code",
   "execution_count": 1,
   "metadata": {},
   "outputs": [],
   "source": [
    "import numpy as np\n",
    "import matplotlib.pyplot as plt\n",
    "%matplotlib inline\n",
    "import os\n",
    "from functools import wraps\n",
    "from time import time\n",
    "import scipy.sparse"
   ]
  },
  {
   "cell_type": "code",
   "execution_count": 2,
   "metadata": {},
   "outputs": [],
   "source": [
    "def timing(f):\n",
    "    @wraps(f)\n",
    "    def wrapper(*args, **kwargs):\n",
    "        start = time()\n",
    "        result = f(*args, **kwargs)\n",
    "        end = time()\n",
    "        print(\"Elapsed time: {}\".format(end-start))\n",
    "        return result\n",
    "    return wrapper"
   ]
  },
  {
   "cell_type": "markdown",
   "metadata": {},
   "source": [
    "# Euclidean distance between two sets"
   ]
  },
  {
   "cell_type": "code",
   "execution_count": 3,
   "metadata": {},
   "outputs": [],
   "source": [
    "np.random.seed(5566)\n",
    "N = 1000\n",
    "M = 100\n",
    "D = 50"
   ]
  },
  {
   "cell_type": "code",
   "execution_count": 4,
   "metadata": {},
   "outputs": [],
   "source": [
    "A = np.random.uniform(low=-1, high=1, size=(N, D))\n",
    "B = np.random.uniform(low=-1, high=1, size=(M, D))"
   ]
  },
  {
   "cell_type": "code",
   "execution_count": 5,
   "metadata": {},
   "outputs": [],
   "source": [
    "# def getDistanceLoop(A, B):\n",
    "#     N = A.shape[0]\n",
    "#     M = A.shape[0]\n",
    "    \n",
    "#     C = np.zeros((N, M))\n",
    "    \n",
    "#     for n in range(N):\n",
    "#         for m in range(M):\n",
    "#             C[n, m] = np.sqrt(np.sum((A[n, :] - B[m, :])**2))\n",
    "            \n",
    "#     return C\n",
    "\n",
    "# def getDistanceVec(A, B):\n",
    "#     N = A.shape[0]\n",
    "#     M = B.shape[0]\n",
    "#     D = A.shape[1]\n",
    "    \n",
    "#     return np.sqrt(A**2@np.ones([D, M]) + np.ones([N, D])@B.T**2 - 2*A@B.T)"
   ]
  },
  {
   "cell_type": "code",
   "execution_count": 6,
   "metadata": {},
   "outputs": [],
   "source": [
    "@timing\n",
    "def getDistanceLoop(A, B):\n",
    "    N = A.shape[0]\n",
    "    M = B.shape[0]\n",
    "    \n",
    "    C = np.zeros((N, M))\n",
    "    \n",
    "    for n in range(N):\n",
    "        for m in range(M):\n",
    "            C[n, m] = np.sqrt(np.sum((A[n, :] - B[m, :])**2))\n",
    "            \n",
    "    return C"
   ]
  },
  {
   "cell_type": "code",
   "execution_count": 7,
   "metadata": {},
   "outputs": [],
   "source": [
    "@timing\n",
    "def getDistanceVec(A, B):\n",
    "    N = A.shape[0]\n",
    "    M = B.shape[0]\n",
    "    D = A.shape[1]\n",
    "    \n",
    "    return np.sqrt(A**2@np.ones([D, M]) + np.ones([N, D])@B.T**2 - 2*A@B.T)\n"
   ]
  },
  {
   "cell_type": "code",
   "execution_count": 8,
   "metadata": {},
   "outputs": [
    {
     "name": "stdout",
     "output_type": "stream",
     "text": [
      "Elapsed time: 1.3095738887786865\n",
      "Elapsed time: 0.006134033203125\n"
     ]
    }
   ],
   "source": [
    "C_loop = getDistanceLoop(A, B)\n",
    "C_vec = getDistanceVec(A,B)"
   ]
  },
  {
   "cell_type": "code",
   "execution_count": 9,
   "metadata": {},
   "outputs": [
    {
     "data": {
      "text/plain": [
       "True"
      ]
     },
     "execution_count": 9,
     "metadata": {},
     "output_type": "execute_result"
    }
   ],
   "source": [
    "np.allclose(C_loop, C_vec)"
   ]
  },
  {
   "cell_type": "markdown",
   "metadata": {},
   "source": [
    "# Cluster centers"
   ]
  },
  {
   "cell_type": "code",
   "execution_count": 10,
   "metadata": {},
   "outputs": [],
   "source": [
    "np.random.seed(5566)\n",
    "N = 1000\n",
    "D = 50\n",
    "K = 100\n",
    "cluster_assign = np.random.choice(K, N)\n",
    "I = cluster_assign\n",
    "J = np.arange(N)\n",
    "V = np.ones(N)\n",
    "E = scipy.sparse.coo_matrix((V,(I,J)),shape=(K, N)).toarray()\n",
    "\n",
    "X = np.random.uniform(low=-1, high=1, size=(N, D))"
   ]
  },
  {
   "cell_type": "code",
   "execution_count": 11,
   "metadata": {},
   "outputs": [],
   "source": [
    "# def getCenters1(X, E):\n",
    "#     K = E.shape[0]\n",
    "#     D = X.shape[1]\n",
    "#     C = np.zeros([K, D])\n",
    "    \n",
    "#     for k in range(K):\n",
    "#         member_index = np.where(E[k, :]==1)[0]\n",
    "#         C[k, :] = np.mean(X[member_index, :], axis=0)\n",
    "#     return C\n",
    "\n",
    "# def getCenters2(X, E):\n",
    "#     return E@X/np.sum(E, axis=1, keepdims=True)"
   ]
  },
  {
   "cell_type": "code",
   "execution_count": 12,
   "metadata": {},
   "outputs": [],
   "source": [
    "@timing\n",
    "def getCenters1(X, E):\n",
    "    K = E.shape[0]\n",
    "    D = X.shape[1]\n",
    "    C = np.zeros([K, D])\n",
    "    \n",
    "    for k in range(K):\n",
    "        member_index = np.where(E[k, :]==1)[0]\n",
    "        C[k, :] = np.mean(X[member_index, :], axis=0)\n",
    "    return C"
   ]
  },
  {
   "cell_type": "code",
   "execution_count": 13,
   "metadata": {},
   "outputs": [],
   "source": [
    "@timing\n",
    "def getCenters2(X, E):\n",
    "    return E@X/np.sum(E, axis=1, keepdims=True)"
   ]
  },
  {
   "cell_type": "code",
   "execution_count": 14,
   "metadata": {},
   "outputs": [
    {
     "name": "stdout",
     "output_type": "stream",
     "text": [
      "Elapsed time: 0.006078004837036133\n",
      "Elapsed time: 0.0009951591491699219\n"
     ]
    },
    {
     "data": {
      "text/plain": [
       "True"
      ]
     },
     "execution_count": 14,
     "metadata": {},
     "output_type": "execute_result"
    }
   ],
   "source": [
    "C_1 = getCenters1(X, E)\n",
    "C_2 = getCenters2(X, E)\n",
    "np.allclose(C_1, C_2)"
   ]
  },
  {
   "cell_type": "markdown",
   "metadata": {},
   "source": [
    "# K means"
   ]
  },
  {
   "cell_type": "code",
   "execution_count": 15,
   "metadata": {},
   "outputs": [],
   "source": [
    "N = 1000\n",
    "D = 50\n",
    "K = 100\n",
    "X = np.random.uniform(low=-1, high=1, size=(N, D))\n",
    "\n",
    "def kmeans(X, K):\n",
    "    # X: data N x D\n",
    "    # K: cluster number, scalar\n",
    "    J = np.arange(N)\n",
    "    V = np.ones(N)\n",
    "\n",
    "    cluster_assign = np.random.choice(K, N)\n",
    "    prev_assign = np.zeros(cluster_assign.shape, dtype=np.int32)\n",
    "\n",
    "    while any(cluster_assign != prev_assign):\n",
    "        prev_assign = cluster_assign\n",
    "        E = scipy.sparse.coo_matrix((V,(prev_assign,J)),shape=(K, N)).toarray() # indicator matrix\n",
    "        centers = E@X/np.sum(E, axis=1, keepdims=True) # K x D\n",
    "        dist = centers**2@np.ones([D, N]) - 2*centers@X.T # KxN\n",
    "        cluster_assign = np.argmin(dist, axis=0)\n",
    "    return cluster_assign"
   ]
  },
  {
   "cell_type": "markdown",
   "metadata": {},
   "source": [
    "# loggausspdf"
   ]
  },
  {
   "cell_type": "code",
   "execution_count": 16,
   "metadata": {},
   "outputs": [],
   "source": [
    "from scipy.stats import multivariate_normal"
   ]
  },
  {
   "cell_type": "code",
   "execution_count": 17,
   "metadata": {},
   "outputs": [],
   "source": [
    "N = 1000\n",
    "D = 10\n",
    "\n",
    "X = np.random.uniform(low=-1, high=1, size=(N, D))\n",
    "\n",
    "mu = np.mean(X, axis=0)\n",
    "Sigma = np.cov(X.T)"
   ]
  },
  {
   "cell_type": "code",
   "execution_count": 18,
   "metadata": {},
   "outputs": [],
   "source": [
    "def loggausspdf(X, mu, Sigma):\n",
    "    D = X.shape[1]\n",
    "    x_tilde = X-mu\n",
    "    U = np.linalg.cholesky(Sigma)\n",
    "    v = np.linalg.solve(U.T, x_tilde.T)\n",
    "    Q = np.sum(v**2, axis=0)\n",
    "    constant = D*np.log(2*np.pi)+2*np.sum(np.log(np.diag(U)))\n",
    "\n",
    "    return -(Q+constant)/2"
   ]
  },
  {
   "cell_type": "code",
   "execution_count": 19,
   "metadata": {},
   "outputs": [],
   "source": [
    "ll = loggausspdf(X, mu, Sigma)\n",
    "ll2 =  multivariate_normal.logpdf(X, mean=mu, cov=Sigma)"
   ]
  },
  {
   "cell_type": "markdown",
   "metadata": {},
   "source": [
    "# GMM"
   ]
  },
  {
   "cell_type": "code",
   "execution_count": 20,
   "metadata": {},
   "outputs": [],
   "source": [
    "N = 50\n",
    "D = 2\n",
    "K = 3\n",
    "np.random.seed(5566)\n",
    "mu = np.random.uniform(low=-2, high=2, size=(K, D)) # row major\n",
    "Sigma = np.zeros((K, D, D))\n",
    "\n",
    "Sigma[0, :, :] = np.array([[0.3, 0], [0, 0.3]])\n",
    "Sigma[1, :, :] = np.array([[0.01, 0], [0, 0.01]])\n",
    "Sigma[2, :, :] = np.array([[0.2, 0.05], [0.05, 0.2]])\n",
    "# for k in range(K):\n",
    "#     temp = np.random.uniform(high=0.02, size=2)\n",
    "#     Sigma[k, :, :] = np.array([[temp[0], 0], [0, temp[1]]])\n",
    "\n",
    "data = np.zeros((K, N, D))\n",
    "for k in range(K):\n",
    "    data[k, :] = np.random.multivariate_normal(mu[k, :], Sigma[k, :, :], N)"
   ]
  },
  {
   "cell_type": "code",
   "execution_count": 21,
   "metadata": {},
   "outputs": [
    {
     "data": {
      "text/plain": [
       "<matplotlib.collections.PathCollection at 0x11da43550>"
      ]
     },
     "execution_count": 21,
     "metadata": {},
     "output_type": "execute_result"
    },
    {
     "data": {
      "image/png": "[encoded data removed]",
      "text/plain": [
       "<Figure size 864x576 with 1 Axes>"
      ]
     },
     "metadata": {
      "needs_background": "light"
     },
     "output_type": "display_data"
    }
   ],
   "source": [
    "f, ax = plt.subplots(1, 1, figsize=(12, 8))\n",
    "ax.scatter(data[0, :, 0], data[0, :, 1])\n",
    "ax.scatter(data[1, :, 0], data[1, :, 1])\n",
    "ax.scatter(data[2, :, 0], data[2, :, 1])"
   ]
  },
  {
   "cell_type": "code",
   "execution_count": 22,
   "metadata": {},
   "outputs": [
    {
     "data": {
      "text/plain": [
       "<matplotlib.collections.PathCollection at 0x1a1fd406d8>"
      ]
     },
     "execution_count": 22,
     "metadata": {},
     "output_type": "execute_result"
    },
    {
     "data": {
      "image/png": "[encoded data removed]",
      "text/plain": [
       "<Figure size 864x576 with 1 Axes>"
      ]
     },
     "metadata": {
      "needs_background": "light"
     },
     "output_type": "display_data"
    }
   ],
   "source": [
    "f, ax = plt.subplots(1, 1, figsize=(12, 8))\n",
    "X = data.reshape((K*N, D))\n",
    "ax.scatter(X[:50, 0], X[:50, 1])\n",
    "ax.scatter(X[51:100, 0], X[51:100, 1])\n",
    "ax.scatter(X[101:, 0], X[101:, 1])"
   ]
  },
  {
   "cell_type": "code",
   "execution_count": 23,
   "metadata": {},
   "outputs": [],
   "source": [
    "X = data.reshape((K*N, D))"
   ]
  },
  {
   "cell_type": "code",
   "execution_count": 24,
   "metadata": {},
   "outputs": [],
   "source": [
    "def logsumexp(x, axis=0):\n",
    "    # x with size K x N\n",
    "    max_val = np.max(ll)\n",
    "    y = x - max_val\n",
    "    ll_sum = max_val + np.log(np.sum(np.exp(y), axis=axis, keepdims=True))\n",
    "    inf_index = np.isinf(ll_sum)\n",
    "    if np.any(inf_index):\n",
    "        ll_sum[inf_index] = max_val[inf_index]\n",
    "    return ll_sum\n",
    "\n",
    "def Expectation(X, mu, Sigma):\n",
    "    # X: N x D\n",
    "    # mu: K x D\n",
    "    # Sigma: K x D x D\n",
    "    # return E: K x N\n",
    "    K = mu.shape[0]\n",
    "    N = X.shape[0]\n",
    "    ll = np.zeros((K, N))\n",
    "    for k in range(K):\n",
    "        ll[k, :] = loggausspdf(X, mu[k, :], Sigma[k, :, :])\n",
    "    ll_sum = logsumexp(ll, axis=0)   \n",
    "    E = np.exp(ll - ll_sum)\n",
    "    \n",
    "    return E, np.sum(ll_sum)\n",
    "\n",
    "def Maximization(X, E):\n",
    "    # X: N x D\n",
    "    # E: K x N\n",
    "    # return: mu: K x D\n",
    "    #         Sigma: K x D x D\n",
    "    K = E.shape[0]\n",
    "    mu_hat = np.zeros((K, D))\n",
    "    Sigma_hat = np.zeros((K, D, D))\n",
    "    for k in range(K):\n",
    "        e = E[None, k, :]\n",
    "        mu_hat[k, :] = e@X/np.sum(e)\n",
    "        temp = np.sqrt(e).T*(X - mu_hat[k, :])\n",
    "        Sigma_hat[k, :, :] = temp.T@temp/np.sum(e)\n",
    "        \n",
    "    return mu_hat, Sigma_hat"
   ]
  },
  {
   "cell_type": "code",
   "execution_count": 25,
   "metadata": {},
   "outputs": [],
   "source": [
    "N = X.shape[0]\n",
    "\n",
    "J = np.arange(N)\n",
    "V = np.ones(N)\n",
    "\n",
    "cluster_assign = np.random.choice(K, N)\n",
    "# cluster_assign = np.zeros(N)\n",
    "# cluster_assign[:50] = 0\n",
    "# cluster_assign[51:100] = 1\n",
    "# cluster_assign[101:] = 2\n",
    "E = scipy.sparse.coo_matrix((V,(cluster_assign,J)),shape=(K, N)).toarray()\n",
    "\n",
    "ll_temp = []\n",
    "for it in range(100):\n",
    "    mu_est, Sigma_est = Maximization(X, E)\n",
    "    E, ll = Expectation(X, mu_est, Sigma_est)\n",
    "    ll_temp.append(ll)"
   ]
  },
  {
   "cell_type": "code",
   "execution_count": 26,
   "metadata": {},
   "outputs": [
    {
     "data": {
      "text/plain": [
       "[<matplotlib.lines.Line2D at 0x1a2036b278>]"
      ]
     },
     "execution_count": 26,
     "metadata": {},
     "output_type": "execute_result"
    },
    {
     "data": {
      "image/png": "[encoded data removed]",
      "text/plain": [
       "<Figure size 432x288 with 1 Axes>"
      ]
     },
     "metadata": {
      "needs_background": "light"
     },
     "output_type": "display_data"
    }
   ],
   "source": [
    "plt.plot(ll_temp)"
   ]
  },
  {
   "cell_type": "code",
   "execution_count": 27,
   "metadata": {},
   "outputs": [],
   "source": [
    "def GMM(X, K):\n",
    "    # X: data N x D\n",
    "    # K: number of clusters\n",
    "    N = X.shape[0]\n",
    "\n",
    "    J = np.arange(N)\n",
    "    V = np.ones(N)\n",
    "\n",
    "    cluster_assign = np.random.choice(K, N)\n",
    "    E = scipy.sparse.coo_matrix((V,(cluster_assign,J)),shape=(K, N)).toarray()\n",
    "\n",
    "    ll_rec = []\n",
    "    for it in range(40):\n",
    "        mu_hat, Sigma_hat = Maximization(X, E)\n",
    "        E, ll = Expectation(X, mu_hat, Sigma_hat)\n",
    "        ll_rec.append(ll)\n",
    "        \n",
    "    return mu_hat, Sigma_hat, ll_rec\n",
    "    "
   ]
  },
  {
   "cell_type": "code",
   "execution_count": 28,
   "metadata": {},
   "outputs": [
    {
     "data": {
      "image/png": "[encoded data removed]",
      "text/plain": [
       "<Figure size 576x432 with 1 Axes>"
      ]
     },
     "metadata": {
      "needs_background": "light"
     },
     "output_type": "display_data"
    }
   ],
   "source": [
    "np.random.seed(1234)\n",
    "mu_hat, Sigma_hat, ll = GMM(X, K=3)\n",
    "f, ax = plt.subplots(1, 1, figsize=(8, 6))\n",
    "ax.plot(ll)\n",
    "ax.set_xlabel(\"Iterations\", fontsize=18)\n",
    "ax.set_ylabel(\"Log-likelihood\", fontsize=18)\n",
    "ax.xaxis.set_tick_params(labelsize=14)\n",
    "ax.yaxis.set_tick_params(labelsize=14)\n",
    "f.savefig(\"fig_GMM_ll.png\")"
   ]
  },
  {
   "cell_type": "code",
   "execution_count": 29,
   "metadata": {},
   "outputs": [
    {
     "data": {
      "text/plain": [
       "array([[[0.3 , 0.  ],\n",
       "        [0.  , 0.3 ]],\n",
       "\n",
       "       [[0.01, 0.  ],\n",
       "        [0.  , 0.01]],\n",
       "\n",
       "       [[0.2 , 0.05],\n",
       "        [0.05, 0.2 ]]])"
      ]
     },
     "execution_count": 29,
     "metadata": {},
     "output_type": "execute_result"
    }
   ],
   "source": [
    "Sigma"
   ]
  },
  {
   "cell_type": "code",
   "execution_count": 30,
   "metadata": {},
   "outputs": [],
   "source": [
    "# N = X.shape[0]\n",
    "\n",
    "# J = np.arange(N)\n",
    "# V = np.ones(N)\n",
    "\n",
    "# # cluster_assign = np.random.choice(K, N)\n",
    "# cluster_assign = np.zeros(N)\n",
    "# cluster_assign[:50] = 0\n",
    "# cluster_assign[51:100] = 1\n",
    "# cluster_assign[101:] = 2\n",
    "# E = scipy.sparse.coo_matrix((V,(cluster_assign,J)),shape=(K, N)).toarray()\n",
    "\n",
    "# # M-step\n",
    "# mu_est = np.zeros((K, D))\n",
    "# Sigma_est = np.zeros((K, D, D))\n",
    "# for k in range(K):\n",
    "#     e = E[None, k, :]\n",
    "#     mu_est[k, :] = e@X/np.sum(e)\n",
    "#     temp = np.sqrt(e).T*(X - mu_est[k, :])\n",
    "#     Sigma_est[k, :, :] = temp.T@temp/np.sum(e)\n",
    "    \n",
    "# # E-step\n",
    "# ll = np.zeros((K, N))\n",
    "# for k in range(K):\n",
    "#     ll[k, :] = loggausspdf(X, mu_est[k, :], Sigma_est[k, :, :])\n",
    "# ll_sum = logsumexp(ll, axis=0)   \n",
    "# E = np.exp(ll - ll_sum)"
   ]
  },
  {
   "cell_type": "code",
   "execution_count": 31,
   "metadata": {},
   "outputs": [
    {
     "data": {
      "text/plain": [
       "array([[ 1.48183321, -1.57193389],\n",
       "       [-1.41263341, -1.05149708],\n",
       "       [ 0.67096575,  1.0366762 ]])"
      ]
     },
     "execution_count": 31,
     "metadata": {},
     "output_type": "execute_result"
    }
   ],
   "source": [
    "mu"
   ]
  },
  {
   "cell_type": "code",
   "execution_count": null,
   "metadata": {},
   "outputs": [],
   "source": [
    "mu_est"
   ]
  },
  {
   "cell_type": "code",
   "execution_count": 33,
   "metadata": {},
   "outputs": [
    {
     "data": {
      "text/plain": [
       "array([[[0.3 , 0.  ],\n",
       "        [0.  , 0.3 ]],\n",
       "\n",
       "       [[0.01, 0.  ],\n",
       "        [0.  , 0.01]],\n",
       "\n",
       "       [[0.2 , 0.05],\n",
       "        [0.05, 0.2 ]]])"
      ]
     },
     "execution_count": 33,
     "metadata": {},
     "output_type": "execute_result"
    }
   ],
   "source": [
    "Sigma"
   ]
  },
  {
   "cell_type": "markdown",
   "metadata": {},
   "source": [
    "# Row major, column major"
   ]
  },
  {
   "cell_type": "code",
   "execution_count": 34,
   "metadata": {},
   "outputs": [
    {
     "name": "stdout",
     "output_type": "stream",
     "text": [
      "Row means\n",
      "605 µs ± 21.1 µs per loop (mean ± std. dev. of 7 runs, 1000 loops each)\n",
      "Column means\n",
      "858 µs ± 20.7 µs per loop (mean ± std. dev. of 7 runs, 1000 loops each)\n",
      "\n",
      "\n",
      "Row operations\n",
      "2.27 µs ± 97.7 ns per loop (mean ± std. dev. of 7 runs, 100000 loops each)\n",
      "Column operations\n",
      "8.19 µs ± 1.77 µs per loop (mean ± std. dev. of 7 runs, 100000 loops each)\n"
     ]
    }
   ],
   "source": [
    "data = np.random.rand(1000,1000)\n",
    "\n",
    "print(\"Row means\")\n",
    "%timeit np.mean(data, axis=1)\n",
    "print(\"Column means\")\n",
    "%timeit np.mean(data, axis=0)\n",
    "\n",
    "print(\"\\n\\nRow operations\")\n",
    "%timeit data[1, :] + 3\n",
    "print(\"Column operations\")\n",
    "%timeit data[:, 1] + 3"
   ]
  },
  {
   "cell_type": "code",
   "execution_count": 35,
   "metadata": {},
   "outputs": [
    {
     "name": "stdout",
     "output_type": "stream",
     "text": [
      "Row means\n",
      "834 µs ± 15 µs per loop (mean ± std. dev. of 7 runs, 1000 loops each)\n",
      "Column means\n",
      "810 µs ± 227 µs per loop (mean ± std. dev. of 7 runs, 1000 loops each)\n",
      "\n",
      "\n",
      "Row operations\n",
      "7.48 µs ± 787 ns per loop (mean ± std. dev. of 7 runs, 100000 loops each)\n",
      "Column operations\n",
      "2.26 µs ± 89.2 ns per loop (mean ± std. dev. of 7 runs, 100000 loops each)\n"
     ]
    }
   ],
   "source": [
    "data = np.asfortranarray(data)\n",
    "\n",
    "print(\"Row means\")\n",
    "%timeit np.mean(data, axis=1)\n",
    "print(\"Column means\")\n",
    "%timeit np.mean(data, axis=0)\n",
    "\n",
    "print(\"\\n\\nRow operations\")\n",
    "%timeit data[1, :] + 3\n",
    "print(\"Column operations\")\n",
    "%timeit data[:, 1] + 3"
   ]
  },
  {
   "cell_type": "code",
   "execution_count": 36,
   "metadata": {},
   "outputs": [
    {
     "data": {
      "text/plain": [
       "  C_CONTIGUOUS : False\n",
       "  F_CONTIGUOUS : True\n",
       "  OWNDATA : True\n",
       "  WRITEABLE : True\n",
       "  ALIGNED : True\n",
       "  WRITEBACKIFCOPY : False\n",
       "  UPDATEIFCOPY : False"
      ]
     },
     "execution_count": 36,
     "metadata": {},
     "output_type": "execute_result"
    }
   ],
   "source": [
    "data.flags"
   ]
  },
  {
   "cell_type": "code",
   "execution_count": null,
   "metadata": {},
   "outputs": [],
   "source": []
  }
 ],
 "metadata": {
  "kernelspec": {
   "display_name": "conda_p3",
   "language": "python",
   "name": "python3"
  },
  "language_info": {
   "codemirror_mode": {
    "name": "ipython",
    "version": 3
   },
   "file_extension": ".py",
   "mimetype": "text/x-python",
   "name": "python",
   "nbconvert_exporter": "python",
   "pygments_lexer": "ipython3",
   "version": "3.6.6"
  },
  "toc": {
   "base_numbering": 1,
   "nav_menu": {},
   "number_sections": true,
   "sideBar": true,
   "skip_h1_title": false,
   "title_cell": "Table of Contents",
   "title_sidebar": "Contents",
   "toc_cell": false,
   "toc_position": {},
   "toc_section_display": true,
   "toc_window_display": false
  },
  "varInspector": {
   "cols": {
    "lenName": 16,
    "lenType": 16,
    "lenVar": 40
   },
   "kernels_config": {
    "python": {
     "delete_cmd_postfix": "",
     "delete_cmd_prefix": "del ",
     "library": "var_list.py",
     "varRefreshCmd": "print(var_dic_list())"
    },
    "r": {
     "delete_cmd_postfix": ") ",
     "delete_cmd_prefix": "rm(",
     "library": "var_list.r",
     "varRefreshCmd": "cat(var_dic_list()) "
    }
   },
   "position": {
    "height": "507px",
    "left": "2190px",
    "right": "20px",
    "top": "120px",
    "width": "350px"
   },
   "types_to_exclude": [
    "module",
    "function",
    "builtin_function_or_method",
    "instance",
    "_Feature"
   ],
   "window_display": false
  }
 },
 "nbformat": 4,
 "nbformat_minor": 2
}
